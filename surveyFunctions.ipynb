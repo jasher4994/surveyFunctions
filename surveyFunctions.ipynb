{
 "cells": [
  {
   "cell_type": "markdown",
   "metadata": {},
   "source": [
    "# Functions for survey data"
   ]
  },
  {
   "cell_type": "markdown",
   "metadata": {},
   "source": [
    "### Package and data import "
   ]
  },
  {
   "cell_type": "code",
   "execution_count": 3,
   "metadata": {},
   "outputs": [],
   "source": [
    "import pandas as pd\n",
    "import numpy as np\n",
    "import seaborn as sns\n",
    "%matplotlib inline\n",
    "\n",
    "df = pd.read_excel(\"cleaned_tech_test_data.xlsx\")"
   ]
  },
  {
   "cell_type": "markdown",
   "metadata": {},
   "source": [
    "### Cleaning"
   ]
  },
  {
   "cell_type": "markdown",
   "metadata": {},
   "source": [
    "##### dropping redundant columns"
   ]
  },
  {
   "cell_type": "code",
   "execution_count": 4,
   "metadata": {},
   "outputs": [],
   "source": [
    "df = df.iloc[:,19:]"
   ]
  },
  {
   "cell_type": "markdown",
   "metadata": {},
   "source": [
    "##### making columns binary/catagorical "
   ]
  },
  {
   "cell_type": "code",
   "execution_count": 5,
   "metadata": {},
   "outputs": [],
   "source": [
    "def make_columns_binary(df):\n",
    "    cols = df.columns\n",
    "    for x in cols:\n",
    "        df[x] = df[x].replace('.*', 1, regex=True)\n",
    "    \n",
    "    return df"
   ]
  },
  {
   "cell_type": "markdown",
   "metadata": {},
   "source": [
    "##### remove NA's"
   ]
  },
  {
   "cell_type": "code",
   "execution_count": 6,
   "metadata": {},
   "outputs": [],
   "source": [
    "df = df.fillna(0)"
   ]
  },
  {
   "cell_type": "markdown",
   "metadata": {},
   "source": [
    "##### catagorising variables"
   ]
  },
  {
   "cell_type": "code",
   "execution_count": 7,
   "metadata": {},
   "outputs": [],
   "source": [
    "def age_bracket(age):\n",
    "    \n",
    "    age = int(age)\n",
    "    \n",
    "    if age < 30:\n",
    "        group = '<30'\n",
    "    \n",
    "    if age in range(30, 40):\n",
    "        group = '30-39'\n",
    "        \n",
    "    if age in range(40, 50):\n",
    "        group = '40-49'\n",
    "        \n",
    "    if age in range(50, 60):\n",
    "        group = '50-59'\n",
    "   \n",
    "    if age >= 60:\n",
    "        group = '60+'\n",
    "\n",
    "    return group\n",
    "\n",
    "#can be adjusted easily  for any variable."
   ]
  },
  {
   "cell_type": "markdown",
   "metadata": {},
   "source": [
    "##### cutting catagorical into even groups"
   ]
  },
  {
   "cell_type": "code",
   "execution_count": 21,
   "metadata": {},
   "outputs": [
    {
     "data": {
      "text/html": [
       "<div>\n",
       "<style scoped>\n",
       "    .dataframe tbody tr th:only-of-type {\n",
       "        vertical-align: middle;\n",
       "    }\n",
       "\n",
       "    .dataframe tbody tr th {\n",
       "        vertical-align: top;\n",
       "    }\n",
       "\n",
       "    .dataframe thead th {\n",
       "        text-align: right;\n",
       "    }\n",
       "</style>\n",
       "<table border=\"1\" class=\"dataframe\">\n",
       "  <thead>\n",
       "    <tr style=\"text-align: right;\">\n",
       "      <th></th>\n",
       "      <th>0</th>\n",
       "    </tr>\n",
       "  </thead>\n",
       "  <tbody>\n",
       "    <tr>\n",
       "      <th>0</th>\n",
       "      <td>low</td>\n",
       "    </tr>\n",
       "    <tr>\n",
       "      <th>1</th>\n",
       "      <td>high</td>\n",
       "    </tr>\n",
       "    <tr>\n",
       "      <th>2</th>\n",
       "      <td>medium</td>\n",
       "    </tr>\n",
       "    <tr>\n",
       "      <th>3</th>\n",
       "      <td>medium</td>\n",
       "    </tr>\n",
       "    <tr>\n",
       "      <th>4</th>\n",
       "      <td>high</td>\n",
       "    </tr>\n",
       "    <tr>\n",
       "      <th>5</th>\n",
       "      <td>low</td>\n",
       "    </tr>\n",
       "  </tbody>\n",
       "</table>\n",
       "</div>"
      ],
      "text/plain": [
       "        0\n",
       "0     low\n",
       "1    high\n",
       "2  medium\n",
       "3  medium\n",
       "4    high\n",
       "5     low"
      ]
     },
     "execution_count": 21,
     "metadata": {},
     "output_type": "execute_result"
    }
   ],
   "source": [
    "groups = pd.cut(np.array([1, 7, 5, 4, 6, 3]), 3, labels=[\"low\", \"medium\", \"high\"])\n",
    "groups = pd.DataFrame(groups)"
   ]
  },
  {
   "cell_type": "markdown",
   "metadata": {},
   "source": [
    "### Exploration"
   ]
  },
  {
   "cell_type": "markdown",
   "metadata": {},
   "source": [
    "##### piping into subgroups"
   ]
  },
  {
   "cell_type": "code",
   "execution_count": null,
   "metadata": {},
   "outputs": [],
   "source": [
    "groupings = (\n",
    "     \n",
    "    df #start with your df\n",
    "    #. - If wanted, you could add a query in here.\n",
    "    #. - You could also add a sort in here. \n",
    "    .iloc[:,:2] # select the first two columns (You can still groupby a column that you havent selected here.)\n",
    "    .groupby(df.iloc[:,11]) #select your cols using iloc. The minus sign works backwards from the last col.\n",
    "    .count()\n",
    "        \n",
    ")\n",
    "\n",
    "groupings"
   ]
  },
  {
   "cell_type": "markdown",
   "metadata": {},
   "source": [
    "##### Crosstabs and heatmaps for one hot encoded questions"
   ]
  },
  {
   "cell_type": "code",
   "execution_count": null,
   "metadata": {},
   "outputs": [],
   "source": [
    "def make_crosstab_percentage(df, groupby_col, independant_cols):\n",
    "    cols  = [groupby_col.name] + list(independant_cols.columns)\n",
    "    groupings = (\n",
    "     \n",
    "        df[cols]\n",
    "        .groupby(groupby_col) \n",
    "        .count()\n",
    "\n",
    "    )\n",
    "    \n",
    "    for x in independant_cols:\n",
    "        groupings['{} (%)'.format(x)] = groupings[x]/groupings.iloc[:,0]*100\n",
    "        groupings = groupings.drop(columns = [x])\n",
    "\n",
    "\n",
    "    return groupings\n",
    "\n",
    "#Plot crosstabs\n",
    "#inputs are the dataframe, the column you want to group by and the list of columns you want to examine. \n",
    "#this works specifically on one hot encoded columns.\n",
    "\n",
    "crosstab = make_crosstab_percentage(df, main_demographics.iloc[:,5], yearly_changes)\n",
    "\n",
    "#delete first column to formulate heatmap correctly.\n",
    "crosstab = crosstab.iloc[:,1:]\n",
    "\n",
    "fig, ax = plt.subplots(figsize=(10,10)) \n",
    "sns.heatmap(crosstab, cmap=\"Reds\", annot=True, cbar=False, fmt='g')\n",
    "ax.set_title(\"Question-title\")"
   ]
  },
  {
   "cell_type": "code",
   "execution_count": null,
   "metadata": {},
   "outputs": [],
   "source": [
    "##### Crosstabs and heatmaps for multi choice questions"
   ]
  },
  {
   "cell_type": "code",
   "execution_count": 12,
   "metadata": {},
   "outputs": [],
   "source": [
    "#This function takes a variable (var) and crosstabs it against a survey question (question) and outputs a heatmap\n",
    "#works specificall on multiple choice questions where all answers are in one column.\n",
    "\n",
    "def heatmap_multi_choice(var, question, question_title):\n",
    "    \n",
    "    crosstab = round(pd.crosstab(var, question, normalize = \"index\")*100, 2) #percentages\n",
    "    \n",
    "    fig, ax = plt.subplots(figsize=(10,10)) \n",
    "    sns.heatmap(crosstab, cmap=\"Reds\", annot=True, cbar=False, fmt='g')\n",
    "    ax.set_title(question_title)\n",
    "    \n",
    "    return ax, crosstab\n",
    "\n",
    "heatmap_multi_choice(var, question, \"Title\")[0] #[0] returns the heatmap, [1] returns the unmodified crosstab.\n"
   ]
  },
  {
   "cell_type": "code",
   "execution_count": null,
   "metadata": {},
   "outputs": [],
   "source": []
  }
 ],
 "metadata": {
  "kernelspec": {
   "display_name": "Python 3",
   "language": "python",
   "name": "python3"
  },
  "language_info": {
   "codemirror_mode": {
    "name": "ipython",
    "version": 3
   },
   "file_extension": ".py",
   "mimetype": "text/x-python",
   "name": "python",
   "nbconvert_exporter": "python",
   "pygments_lexer": "ipython3",
   "version": "3.7.6"
  }
 },
 "nbformat": 4,
 "nbformat_minor": 4
}
